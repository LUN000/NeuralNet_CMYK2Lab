{
 "cells": [
  {
   "cell_type": "markdown",
   "metadata": {},
   "source": [
    "<h1>CMYK2Lab - 含PS製作CMYKLab資料</h1>"
   ]
  },
  {
   "cell_type": "markdown",
   "metadata": {},
   "source": [
    "## Library"
   ]
  },
  {
   "cell_type": "code",
   "execution_count": 1,
   "metadata": {},
   "outputs": [],
   "source": [
    "import pandas as pd\n",
    "import numpy as np\n",
    "from win32com.client import Dispatch\n",
    "from photoshop import Session\n",
    "import random\n",
    "from tqdm import tqdm\n",
    "import time\n",
    "from comtypes.client import GetActiveObject\n",
    "import torch\n",
    "import torch.nn as nn\n",
    "from torch.utils.data import TensorDataset, DataLoader"
   ]
  },
  {
   "cell_type": "markdown",
   "metadata": {},
   "source": [
    "## Photoshop CMYK 轉 Lab"
   ]
  },
  {
   "cell_type": "markdown",
   "metadata": {},
   "source": [
    "#### Training Data"
   ]
  },
  {
   "cell_type": "code",
   "execution_count": null,
   "metadata": {},
   "outputs": [],
   "source": [
    "CMYK_Lab = {'C':[],'M':[],'Y':[],'K':[],'L':[],'a':[],'b':[]}\n",
    "\n",
    "app = Dispatch(\"Photoshop.Application\")\n",
    "\n",
    "with Session() as ps: #開新檔案\n",
    "    ps.app.preferences.rulerUnits = ps.Units.Pixels\n",
    "    ps.app.documents.add(1920, 1080, name=\"my_new_document\")\n",
    "    #文字顏色\n",
    "    doc = ps.active_document\n",
    "    new_text_layer = doc.artLayers.add()  #新增圖層\n",
    "    new_text_layer.kind = ps.LayerKind.TextLayer #指定為字圖層\n",
    "    new_text_layer.textItem.contents = \"Hello, World!\" #打字\n",
    "    new_text_layer.textItem.size = 100\n",
    "    textColor = ps.SolidColor()\n",
    "    for c in range(0,120,20):\n",
    "        textColor.cmyk.cyan= c\n",
    "        for m in range(0,120,20):\n",
    "            textColor.cmyk.magenta= m\n",
    "            for y in range(0,120,20):\n",
    "                textColor.cmyk.yellow = y\n",
    "                for k in range(0,120,20):\n",
    "                    textColor.cmyk.black = k\n",
    "                    #命令更換文字顏色\n",
    "                    new_text_layer.textItem.color = textColor\n",
    "                    L = np.round(new_text_layer.textItem.color.Lab.L,0)\n",
    "                    a = np.round(new_text_layer.textItem.color.Lab.a +0.5,0)\n",
    "                    b = np.round(new_text_layer.textItem.color.Lab.b +0.5,0)\n",
    "                    CMYK_Lab['C'].append(c), CMYK_Lab['M'].append(m), CMYK_Lab['Y'].append(y)\n",
    "                    CMYK_Lab['K'].append(k)\n",
    "                    CMYK_Lab['L'].append(L), CMYK_Lab['a'].append(a), CMYK_Lab['b'].append(b)\n",
    "                    time.sleep(randint(0,2))\n",
    "                    print(len(CMYK_Lab['C']),end=\"\")\n",
    "CMYK_Lab = pd.DataFrame(CMYK_Lab)\n",
    "CMYK_Lab.to_csv('TrainDataSet_int.csv',index=False)"
   ]
  },
  {
   "cell_type": "code",
   "execution_count": 4,
   "metadata": {},
   "outputs": [
    {
     "name": "stdout",
     "output_type": "stream",
     "text": [
      "123456789101112131415161718192021222324252627282930313233343536373839404142434445464748495051525354555657585960616263646566676869707172737475767778798081828384858687888990919293949596979899100101102103104105106107108109110111112113114115116117118119120121122123124125126127128129130131132133134135136137138139140141142143144145146147148149150151152153154155156157158159160161162163164165166167168169170171172173174175176177178179180181182183184185186187188189190191192193194195196197198199200201202203204205206207208209210211212213214215216217218219220221222223224225226227228229230231232233234235236237238239240241242243244245246247248249250251252253254255256257258259260261262263264265266267268269270271272273274275276277278279280281282283284285286287288289290291292293294295296297298299300301302303304305306307308309310311312313314315316317318319320321322323324325326327328329330331332333334335336337338339340341342343344345346347348349350351352353354355356357358359360361362363364365366367368369370371372373374375376377378379380381382383384385386387388389390391392393394395396397398399400401402403404405406407408409410411412413414415416417418419420421422423424425426427428429430431432433434435436437438439440441442443444445446447448449450451452453454455456457458459460461462463464465466467468469470471472473474475476477478479480481482483484485486487488489490491492493494495496497498499500501502503504505506507508509510511512513514515516517518519520521522523524525526527528529530531532533534535536537538539540541542543544545546547548549550551552553554555556557558559560561562563564565566567568569570571572573574575576577578579580581582583584585586587588589590591592593594595596597598599600601602603604605606607608609610611612613614615616617618619620621622623624625626627628629630631632633634635636637638639640641642643644645646647648649650651652653654655656657658659660661662663664665666667668669670671672673674675676677678679680681682683684685686687688689690691692693694695696697698699700701702703704705706707708709710711712713714715716717718719720721722723724725726727728729730731732733734735736737738739740741742743744745746747748749750751752753754755756757758759760761762763764765766767768769770771772773774775776777778779780781782783784785786787788789790791792793794795796797798799800801802803804805806807808809810811812813814815816817818819820821822823824825826827828829830831832833834835836837838839840841842843844845846847848849850851852853854855856857858859860861862863864865866867868869870871872873874875876877878879880881882883884885886887888889890891892893894895896897898899900901902903904905906907908909910911912913914915916917918919920921922923924925926927928929930931932933934935936937938939940941942943944945946947948949950951952953954955956957958959960961962963964965966967968969970971972973974975976977978979980981982983984985986987988989990991992993994995996997998999100010011002100310041005100610071008100910101011101210131014101510161017101810191020102110221023102410251026102710281029103010311032103310341035103610371038103910401041104210431044104510461047104810491050105110521053105410551056105710581059106010611062106310641065106610671068106910701071107210731074107510761077107810791080108110821083108410851086108710881089109010911092109310941095109610971098109911001101110211031104110511061107110811091110111111121113111411151116111711181119112011211122112311241125112611271128112911301131113211331134113511361137113811391140114111421143114411451146114711481149115011511152115311541155115611571158115911601161116211631164116511661167116811691170117111721173117411751176117711781179118011811182118311841185118611871188118911901191119211931194119511961197119811991200120112021203120412051206120712081209121012111212121312141215121612171218121912201221122212231224122512261227122812291230123112321233123412351236123712381239124012411242124312441245124612471248124912501251125212531254125512561257125812591260126112621263126412651266126712681269127012711272127312741275127612771278127912801281128212831284128512861287128812891290129112921293129412951296"
     ]
    }
   ],
   "source": [
    "\"\"\"\n",
    "為套用Color Profile，需先設立好指定ICC的檔案再開啟\n",
    "\"\"\"\n",
    "CMYK_Lab = {'C':[],'M':[],'Y':[],'K':[],'L':[],'a':[],'b':[]}\n",
    "\n",
    "app = GetActiveObject(\"Photoshop.Application\")\n",
    "\n",
    "\n",
    "file = 'C:\\python3.7\\Scripts\\programs\\Fogra51.psd'\n",
    "app.open(file)\n",
    "\n",
    "with Session() as ps:     #文字顏色\n",
    "    doc = ps.active_document\n",
    "    new_text_layer = doc.artLayers.add()  #新增圖層\n",
    "    new_text_layer.kind = ps.LayerKind.TextLayer #指定為字圖層\n",
    "    new_text_layer.textItem.contents = \"Hello, World!\" #打字\n",
    "    new_text_layer.textItem.size = 100\n",
    "    textColor = ps.SolidColor()\n",
    "    for c in range(0,120,20):\n",
    "        textColor.cmyk.cyan= c\n",
    "        for m in range(0,120,20):\n",
    "            textColor.cmyk.magenta= m\n",
    "            for y in range(0,120,20):\n",
    "                textColor.cmyk.yellow = y\n",
    "                for k in range(0,120,20):\n",
    "                    textColor.cmyk.black = k\n",
    "                    #命令更換文字顏色\n",
    "                    new_text_layer.textItem.color = textColor\n",
    "                    L = np.round(new_text_layer.textItem.color.Lab.L,0)\n",
    "                    a = np.round(new_text_layer.textItem.color.Lab.a +0.5,0)\n",
    "                    b = np.round(new_text_layer.textItem.color.Lab.b +0.5,0)\n",
    "                    CMYK_Lab['C'].append(c), CMYK_Lab['M'].append(m), CMYK_Lab['Y'].append(y)\n",
    "                    CMYK_Lab['K'].append(k)\n",
    "                    CMYK_Lab['L'].append(L), CMYK_Lab['a'].append(a), CMYK_Lab['b'].append(b)\n",
    "                    time.sleep(random.randint(0,2))\n",
    "                    print(len(CMYK_Lab['C']),end=\"\")\n",
    "CMYK_Lab = pd.DataFrame(CMYK_Lab)\n",
    "CMYK_Lab.to_csv('FograTrainDataSet.csv',index=False)"
   ]
  },
  {
   "cell_type": "markdown",
   "metadata": {},
   "source": [
    "#### Testing Data"
   ]
  },
  {
   "cell_type": "code",
   "execution_count": null,
   "metadata": {},
   "outputs": [],
   "source": [
    "CMYK_Lab = {'C':[],'M':[],'Y':[],'K':[],'L':[],'a':[],'b':[]}\n",
    "\n",
    "app = Dispatch(\"PhotoShop.Application\")\n",
    "\n",
    "with Session() as ps: #開新檔案\n",
    "    ps.app.preferences.rulerUnits = ps.Units.Pixels\n",
    "    ps.app.documents.add(1920, 1080, name=\"my_new_document\")\n",
    "    #文字顏色\n",
    "    doc = ps.active_document\n",
    "    new_text_layer = doc.artLayers.add()  #新增圖層\n",
    "    new_text_layer.kind = ps.LayerKind.TextLayer #指定為字圖層\n",
    "    new_text_layer.textItem.contents = \"Hello, World!\" #打字\n",
    "    new_text_layer.textItem.size = 100\n",
    "    textColor = ps.SolidColor()\n",
    "    for i in range(100):\n",
    "        c,m,y,k = random.randint(0,100), random.randint(0,100), random.randint(0,100), random.randint(0,100)\n",
    "        textColor.cmyk.cyan= c\n",
    "        textColor.cmyk.magenta= m\n",
    "        textColor.cmyk.yellow = y\n",
    "        textColor.cmyk.black = k\n",
    "        #命令更換文字顏色\n",
    "        new_text_layer.textItem.color = textColor\n",
    "        L = round(new_text_layer.textItem.color.Lab.L,0)\n",
    "        a = round(new_text_layer.textItem.color.Lab.a +0.5,0)\n",
    "        b = round(new_text_layer.textItem.color.Lab.b +0.5,0)\n",
    "        CMYK_Lab['C'].append(c), CMYK_Lab['M'].append(m), CMYK_Lab['Y'].append(y)\n",
    "        CMYK_Lab['K'].append(k)\n",
    "        CMYK_Lab['L'].append(L), CMYK_Lab['a'].append(a), CMYK_Lab['b'].append(b)\n",
    "        time.sleep(randint(0,2))\n",
    "        print(len(CMYK_Lab['C']),end=\"\")\n",
    "        \n",
    "CMYK_Lab = pd.DataFrame(CMYK_Lab)\n",
    "CMYK_Lab.to_csv('TestDataSet.csv',index=False)"
   ]
  },
  {
   "cell_type": "code",
   "execution_count": 9,
   "metadata": {},
   "outputs": [
    {
     "name": "stdout",
     "output_type": "stream",
     "text": [
      "123456789101112131415161718192021222324252627282930313233343536373839404142434445464748495051525354555657585960616263646566676869707172737475767778798081828384858687888990919293949596979899100"
     ]
    }
   ],
   "source": [
    "\"\"\"\n",
    "為套用Color Profile，需先設立好指定ICC的檔案再開啟\n",
    "\"\"\"\n",
    "CMYK_Lab = {'C':[],'M':[],'Y':[],'K':[],'L':[],'a':[],'b':[]}\n",
    "\n",
    "app = GetActiveObject(\"Photoshop.Application\")\n",
    "file = 'C:\\python3.7\\Scripts\\programs\\Fogra51.psd'\n",
    "app.open(file)\n",
    "\n",
    "with Session() as ps: \n",
    "    #文字顏色\n",
    "    doc = ps.active_document\n",
    "    new_text_layer = doc.artLayers.add()  #新增圖層\n",
    "    new_text_layer.kind = ps.LayerKind.TextLayer #指定為字圖層\n",
    "    new_text_layer.textItem.contents = \"Hello, World!\" #打字\n",
    "    new_text_layer.textItem.size = 100\n",
    "    textColor = ps.SolidColor()\n",
    "    for i in range(100):\n",
    "        c,m,y,k = random.randint(0,100), random.randint(0,100), random.randint(0,100), random.randint(0,100)\n",
    "        textColor.cmyk.cyan= c\n",
    "        textColor.cmyk.magenta= m\n",
    "        textColor.cmyk.yellow = y\n",
    "        textColor.cmyk.black = k\n",
    "        #命令更換文字顏色\n",
    "        new_text_layer.textItem.color = textColor\n",
    "        L = np.round(new_text_layer.textItem.color.Lab.L,0)\n",
    "        a = np.round(new_text_layer.textItem.color.Lab.a +0.5,0)\n",
    "        b = np.round(new_text_layer.textItem.color.Lab.b +0.5,0)\n",
    "        CMYK_Lab['C'].append(c), CMYK_Lab['M'].append(m), CMYK_Lab['Y'].append(y)\n",
    "        CMYK_Lab['K'].append(k)\n",
    "        CMYK_Lab['L'].append(L), CMYK_Lab['a'].append(a), CMYK_Lab['b'].append(b)\n",
    "        time.sleep(random.randint(0,2))\n",
    "        print(len(CMYK_Lab['C']),end=\"\")\n",
    "        \n",
    "CMYK_Lab = pd.DataFrame(CMYK_Lab)\n",
    "CMYK_Lab.to_csv('FograTestDataSet3.csv',index=False)"
   ]
  },
  {
   "cell_type": "markdown",
   "metadata": {},
   "source": [
    "## Data Loader\n",
    "<h5>資料處理 : CMYK/100, L/100, a/256, b/256</h>\n",
    "<h5><font color=\"red\"><B>待處理Lab負值</B></font></h>"
   ]
  },
  {
   "cell_type": "code",
   "execution_count": null,
   "metadata": {},
   "outputs": [],
   "source": [
    "class DataSet():\n",
    "    def __init__(self,Datas):\n",
    "        self.data = Datas\n",
    "    def CMYK2Tensor(self):\n",
    "        Data = self.data\n",
    "        CMYKlst=[]\n",
    "        for i in range(len(Data)):\n",
    "            CMYKv=torch.Tensor([Data.iloc[i][0]/100,Data.iloc[i][1]/100,\n",
    "                                   Data.iloc[i][2]/100,Data.iloc[i][3]/100])\n",
    "            CMYKlst.append(CMYKv)\n",
    "        CMYK=torch.stack(CMYKlst)\n",
    "        return CMYK\n",
    "    def Lab2Tensor(self):\n",
    "        Data = self.data\n",
    "        Lablst=[]\n",
    "        for i in range(len(Data)):\n",
    "            Labv=torch.Tensor([Data.iloc[i][4]/100,Data.iloc[i][5]/128,\n",
    "                                   Data.iloc[i][6]/128])\n",
    "            Lablst.append(Labv)\n",
    "        Lab=torch.stack(Lablst)\n",
    "        return Lab\n",
    "\n",
    "Train=pd.read_csv('FograTrainDataSet.csv',index_col=False)\n",
    "Test=pd.read_csv('FograTestDataSet.csv',index_col=False)\n",
    "\n",
    "TrData, TeData = DataSet(Train), DataSet(Test)\n",
    "TrCMYK, TeCMYK = TrData.CMYK2Tensor(), TeData.CMYK2Tensor()\n",
    "TrLab, TeLab = TrData.Lab2Tensor(), TeData.Lab2Tensor()\n",
    "\n",
    "print(TrCMYK.shape,TeCMYK.shape,TrLab.shape,TeLab.shape)"
   ]
  },
  {
   "cell_type": "code",
   "execution_count": null,
   "metadata": {},
   "outputs": [],
   "source": [
    "batch_size = 100\n",
    "train_set = TensorDataset(TrCMYK,TrLab)\n",
    "test_set = TensorDataset(TeCMYK,TeLab)\n",
    "train_loader = DataLoader(train_set, batch_size=batch_size, shuffle=True)\n",
    "test_loader  = DataLoader(test_set, batch_size=batch_size, shuffle=False)"
   ]
  },
  {
   "cell_type": "markdown",
   "metadata": {},
   "source": [
    "## ANN model"
   ]
  },
  {
   "cell_type": "markdown",
   "metadata": {},
   "source": [
    "#### Training"
   ]
  },
  {
   "cell_type": "code",
   "execution_count": null,
   "metadata": {},
   "outputs": [],
   "source": [
    "class MLP(nn.Module):\n",
    "    def __init__(self):\n",
    "        super(MLP, self).__init__()\n",
    "        self.fc1 = nn.Linear(4, 2048)\n",
    "        self.fc2 = nn.Linear(2048, 512)\n",
    "        self.fc3 = nn.Linear(512, 256)\n",
    "        self.fc4 = nn.Linear(256, 32)\n",
    "        self.fc5 = nn.Linear(32,3)\n",
    "    def forward(self, x):\n",
    "        x = self.fc1(x).relu()\n",
    "        x = self.fc2(x).relu()\n",
    "        x = self.fc3(x).relu()\n",
    "        x = self.fc4(x).relu()\n",
    "        x = self.fc5(x).tanh()\n",
    "        return x\n",
    "model = MLP()\n",
    "print(model)"
   ]
  },
  {
   "cell_type": "code",
   "execution_count": null,
   "metadata": {},
   "outputs": [],
   "source": [
    "epochs = 10000\n",
    "optimizer = torch.optim.Adam(model.parameters())\n",
    "criterion = nn.MSELoss()\n",
    "device = torch.device(\"cuda\" if torch.cuda.is_available() else 'cpu')\n",
    "loss_min = 0.005\n",
    "model.to(device)\n",
    "model.train()\n",
    "\n",
    "for epoch in range(epochs):\n",
    "    loss_total=0\n",
    "    n=0\n",
    "    outsave, ysave = [],[]\n",
    "    for i,data in enumerate(train_loader):\n",
    "        x, y = data\n",
    "        x, y = x.to(device), y.to(device)\n",
    "        optimizer.zero_grad()\n",
    "        out = model(x)\n",
    "        # save batchs out&y results in 1 epoch\n",
    "        out, y = out.to('cpu'), y.to('cpu')\n",
    "        outlst = out.detach().numpy().tolist()\n",
    "        ylst = y.detach().numpy().tolist()\n",
    "        outsave += outlst\n",
    "        ysave += ylst\n",
    "        # Loss\n",
    "        loss = criterion(out, y)\n",
    "        loss_total = loss_total + loss\n",
    "        n = n + 1\n",
    "        # 反向\n",
    "        loss.backward()\n",
    "        # 更新\n",
    "        optimizer.step()\n",
    "    loss_ave = loss_total / n\n",
    "    if (epoch % 100 == 0):\n",
    "        print('epoch = %8d, loss_ave = %20.12f' % (epoch, loss_ave))\n",
    "    #儲存最佳loss model\n",
    "    if loss_ave < loss_min:\n",
    "        torch.save(model.state_dict(), 'bestmodel.pt')\n",
    "        print(f'save at epoch = {epoch},loss = {loss_ave}')\n",
    "        loss_min = loss_ave\n",
    "        outTrsave, yTrsave = outsave, ysave\n",
    "    #儲存last epoch model\n",
    "    if epoch == epochs-1:\n",
    "        torch.save(model.state_dict(), 'model_last.pt')\n",
    "        print(f'save last epoch = {epoch},loss = {loss_ave}')"
   ]
  },
  {
   "cell_type": "code",
   "execution_count": null,
   "metadata": {},
   "outputs": [],
   "source": [
    "def LabRecover(data):\n",
    "    Recover= []\n",
    "    try:\n",
    "        for i in range(len(data)):\n",
    "            Recover.append([data[i][0]*100,data[i][1]*128,data[i][2]*128])\n",
    "    except:\n",
    "        Recover.append([data[0]*100,data[1]*128,data[2]*128])\n",
    "    return Recover\n",
    "\n",
    "def CMYKRecover(data):\n",
    "    Recover= []\n",
    "    try:\n",
    "        for i in range(len(data)):\n",
    "            Recover.append([data[i][0]*100,data[i][1]*100,data[i][2]*100,data[i][3]*100])\n",
    "    except:\n",
    "        Recover.append([data[0]*100,data[1]*100,data[2]*100,data[3]*100])\n",
    "    return Recover\n",
    "\n",
    "def DeltaE_1976(result,label):\n",
    "    dE = []\n",
    "    for i in range(len(result)):\n",
    "        dE.append(((result[i][0]-label[i][0])**2+(result[i][1]-label[i][1])**2+\n",
    "                       (result[i][2]-label[i][2])**2)**0.5)\n",
    "    return dE\n",
    "#Lab值恢復\n",
    "outTrRe,yTrRe = LabRecover(outTrsave), LabRecover(yTrsave)\n",
    "#dE計算\n",
    "dE_Tr = DeltaE_1976(outTrRe,yTrRe)\n",
    "dE_TrAll, dE_TrAve = sum(dE_Tr), sum(dE_Tr)/1296\n",
    "dE_TrMax, dE_TrMin = max(dE_Tr), min(dE_Tr)\n",
    "MaxE_TrIndex, MinE_TrIndex = dE_Tr.index(dE_TrMax), dE_Tr.index(dE_TrMin)\n",
    "MaxE_TrColor, MinE_TrColor = yTrRe[MaxE_TrIndex], yTrRe[MinE_TrIndex]\n",
    "MaxE_TrLabOut,MinE_TrLabOut = outTrRe[MaxE_TrIndex], outTrRe[MinE_TrIndex]\n",
    "\n",
    "print('平均Delta_E:', dE_TrAve)\n",
    "print('最大Delta_E:', dE_TrMax,'\\n最大Delta_ELab:', MaxE_TrColor,'\\n最大Delta_E算出Lab:', MaxE_TrLabOut,)\n",
    "print('最小Delta_E:', dE_TrMin,'\\n最小Delta_ELab:', MinE_TrColor,'\\n最小Delta_E算出Lab:', MinE_TrLabOut)"
   ]
  },
  {
   "cell_type": "markdown",
   "metadata": {},
   "source": [
    "### Testing"
   ]
  },
  {
   "cell_type": "code",
   "execution_count": null,
   "metadata": {},
   "outputs": [],
   "source": [
    "model = MLP()\n",
    "model.load_state_dict(torch.load('bestmodel.pt'))\n",
    "model.to(device)\n",
    "model.eval()\n",
    "\n",
    "for i,data in enumerate(test_loader):\n",
    "    xte, yte = data\n",
    "    xte, yte = xte.to(device), yte.to(device)\n",
    "    outte = model(xte)\n",
    "\n",
    "outte, yte = outte.to('cpu'), yte.to('cpu')\n",
    "outte = outte.detach().numpy().tolist()\n",
    "yte = yte.detach().numpy().tolist()  "
   ]
  },
  {
   "cell_type": "code",
   "execution_count": null,
   "metadata": {},
   "outputs": [],
   "source": [
    "outTeRe,yTeRe = LabRecover(outte), LabRecover(yte)\n",
    "dE_Te = DeltaE_1976(outTeRe,yTeRe)\n",
    "dE_TeAll, dE_TeAve = sum(dE_Te), sum(dE_Te)/100\n",
    "dE_TeMax, dE_TeMin = max(dE_Te), min(dE_Te)\n",
    "MaxE_TeIndex, MinE_TeIndex = dE_Te.index(dE_TeMax), dE_Te.index(dE_TeMin)\n",
    "MaxE_TeColor, MinE_TeColor = yTeRe[MaxE_TeIndex], yTeRe[MinE_TeIndex]\n",
    "MaxE_TeLabOut,MinE_TeLabOut = outTeRe[MaxE_TeIndex], outTeRe[MinE_TeIndex]\n",
    "\n",
    "print('平均Delta_E:', dE_TeAve)\n",
    "print('最大Delta_E:', dE_TeMax,'\\n最大Delta_E顏色:', MaxE_TeColor,'\\n最大Delta_E算出Lab:', MaxE_TeLabOut)\n",
    "print('最小Delta_E :', dE_TeMin,'\\n最小Delta_E顏色:', MinE_TeColor,'\\n最小Delta_E算出Lab:', MinE_TeLabOut)"
   ]
  },
  {
   "cell_type": "markdown",
   "metadata": {},
   "source": [
    "### Other Test Data"
   ]
  },
  {
   "cell_type": "code",
   "execution_count": null,
   "metadata": {},
   "outputs": [],
   "source": [
    "Test2=pd.read_csv('FograTestDataSet2.csv',index_col=False)\n",
    "TeData2 = DataSet(Test2)\n",
    "TeCMYK2 = TeData2.CMYK2Tensor()\n",
    "TeLab2 = TeData2.Lab2Tensor()\n",
    "test_set2 = TensorDataset(TeCMYK2,TeLab2)\n",
    "test_loader2  = DataLoader(test_set2, batch_size=batch_size, shuffle=False)\n",
    "\n",
    "model = MLP()\n",
    "model.load_state_dict(torch.load('bestmodel.pt'))\n",
    "model.to(device)\n",
    "model.eval()\n",
    "\n",
    "for i,data in enumerate(test_loader2):\n",
    "    xte2, yte2 = data\n",
    "    xte2, yte2 = xte2.to(device), yte2.to(device)\n",
    "    outte2 = model(xte2)\n",
    "\n",
    "outte2, yte2 = outte2.to('cpu'), yte2.to('cpu')\n",
    "outte2 = outte2.detach().numpy().tolist()\n",
    "yte2 = yte2.detach().numpy().tolist()  \n",
    "\n",
    "outTeRe2,yTeRe2 = LabRecover(outte2), LabRecover(yte2)\n",
    "dE_Te2 = DeltaE_1976(outTeRe2,yTeRe2)\n",
    "dE_TeAll2, dE_TeAve2 = sum(dE_Te2), sum(dE_Te2)/100\n",
    "dE_TeMax2, dE_TeMin2 = max(dE_Te2), min(dE_Te2)\n",
    "MaxE_TeIndex2, MinE_TeIndex2 = dE_Te2.index(dE_TeMax2), dE_Te2.index(dE_TeMin2)\n",
    "MaxE_TeColor2, MinE_TeColor2 = yTeRe2[MaxE_TeIndex2], yTeRe2[MinE_TeIndex2]\n",
    "MaxE_TeLabOut2, MinE_TeLabOut2 = outTeRe2[MaxE_TeIndex2], outTeRe2[MinE_TeIndex2]\n",
    "\n",
    "print('平均Delta_E:', dE_TeAve2)\n",
    "print('最大Delta_E:', dE_TeMax2,'\\n最大Delta_E顏色:', MaxE_TeColor2,'\\n最大Delta_E算出Lab:', MaxE_TeLabOut2)\n",
    "print('最小Delta_E :', dE_TeMin2,'\\n最小Delta_E顏色:', MinE_TeColor2,'\\n最小Delta_E算出Lab:', MinE_TeLabOut2)"
   ]
  },
  {
   "cell_type": "markdown",
   "metadata": {},
   "source": [
    "## 儲存紀錄"
   ]
  },
  {
   "cell_type": "code",
   "execution_count": null,
   "metadata": {},
   "outputs": [],
   "source": [
    "TrRecord = {'Train': dE_TrAve,\n",
    "          'TRMaxE':dE_TrMax,\n",
    "          'TRMaxELab:':MaxE_TrColor,\n",
    "          'TRMaxE_CalLab:':MaxE_TrLabOut,\n",
    "          'TRMinE:':dE_TrMin,\n",
    "          'TRMinELab:':MinE_TrColor,\n",
    "          'TRMinE_CalLab:':MinE_TrLabOut}\n",
    "TeRecord = {'Test': dE_TeAve,\n",
    "          'T1MaxE':dE_TeMax,\n",
    "          'T1MaxELab:':MaxE_TeColor,\n",
    "          'T1MaxE_CalLab:':MaxE_TeLabOut,\n",
    "          'T1MinE:':dE_TeMin,\n",
    "          'T1MinELab:':MinE_TeColor,\n",
    "          'T1MinE_CalLab:':MinE_TeLabOut}\n",
    "TeRecord2 = {'Test2': dE_TeAve2,\n",
    "          'T2MaxE':dE_TeMax2,\n",
    "          'T2MaxELab:':MaxE_TeColor2,\n",
    "          'T2MaxE_CalLab:':MaxE_TeLabOut2,\n",
    "          'T2MinE:':dE_TeMin2,\n",
    "          'T2MinELab:':MinE_TeColor2,\n",
    "          'T2MinE_CalLab:':MinE_TeLabOut2}\n",
    "\n",
    "TrRecord,TeRecord,TeRecord2 = pd.DataFrame(TrRecord),pd.DataFrame(TeRecord),pd.DataFrame(TeRecord2)\n",
    "Record = TrRecord.join(TeRecord,how='left')\n",
    "Record = Record.join(TeRecord2,how='left')\n",
    "\n",
    "Record.to_csv('CMYK2Lab_Record.csv',mode='a',encoding='utf-8-sig')"
   ]
  },
  {
   "cell_type": "markdown",
   "metadata": {},
   "source": [
    "## 顏色查看"
   ]
  },
  {
   "cell_type": "code",
   "execution_count": null,
   "metadata": {},
   "outputs": [],
   "source": []
  }
 ],
 "metadata": {
  "kernelspec": {
   "display_name": "Python 3",
   "language": "python",
   "name": "python3"
  },
  "language_info": {
   "codemirror_mode": {
    "name": "ipython",
    "version": 3
   },
   "file_extension": ".py",
   "mimetype": "text/x-python",
   "name": "python",
   "nbconvert_exporter": "python",
   "pygments_lexer": "ipython3",
   "version": "3.7.7"
  }
 },
 "nbformat": 4,
 "nbformat_minor": 4
}
